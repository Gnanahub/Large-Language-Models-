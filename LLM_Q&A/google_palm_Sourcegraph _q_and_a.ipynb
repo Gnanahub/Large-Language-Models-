{
 "cells": [
  {
   "cell_type": "markdown",
   "id": "f972f82d",
   "metadata": {},
   "source": [
    "### Basic working of Google Palm LLM in LangChain"
   ]
  },
  {
   "cell_type": "code",
   "execution_count": 1,
   "id": "a34aa70b",
   "metadata": {},
   "outputs": [],
   "source": [
    "from langchain.llms import GooglePalm\n",
    "\n",
    "api_key = 'your_API_key' # get this free api key from https://makersuite.google.com/\n",
    "\n",
    "llm = GooglePalm(google_api_key=api_key, temperature=0.6)"
   ]
  },
  {
   "cell_type": "code",
   "execution_count": 2,
   "id": "2b610123",
   "metadata": {},
   "outputs": [
    {
     "name": "stdout",
     "output_type": "stream",
     "text": [
      "**My love for you is like a red, red rose**\n",
      "**That's newly sprung in June:**\n",
      "**My love is like the melody**\n",
      "**That's sweetly played in tune.**\n"
     ]
    }
   ],
   "source": [
    "poem = llm(\"Write a 4 line poem of my love \")\n",
    "print(poem)"
   ]
  },
  {
   "cell_type": "code",
   "execution_count": 3,
   "id": "c235a80e",
   "metadata": {
    "scrolled": true
   },
   "outputs": [
    {
     "name": "stdout",
     "output_type": "stream",
     "text": [
      "Dear [Name of Customer Service Representative],\n",
      "\n",
      "I am writing to request a refund for the [product name] that I purchased on [date]. I am not satisfied with the product because [explain why you are not satisfied].\n",
      "\n",
      "I have attached a copy of my receipt and a picture of the product. I have also included the serial number of the product.\n",
      "\n",
      "I would like to request a full refund for the product. I would appreciate it if you could process the refund as soon as possible.\n",
      "\n",
      "Thank you for your time and consideration.\n",
      "\n",
      "Sincerely,\n",
      "[Your Name]\n"
     ]
    }
   ],
   "source": [
    "essay = llm(\"write email requesting refund for electronic item\")\n",
    "print(essay)"
   ]
  },
  {
   "cell_type": "code",
   "execution_count": 4,
   "id": "227816a9",
   "metadata": {},
   "outputs": [],
   "source": [
    "from langchain.chains import RetrievalQA\n",
    "\n",
    "\n",
    "from langchain.embeddings import GooglePalmEmbeddings\n",
    "from langchain.llms import GooglePalm"
   ]
  },
  {
   "cell_type": "markdown",
   "id": "765695b5",
   "metadata": {},
   "source": [
    "### Now let's load data from Sourcegraph FAQ csv file"
   ]
  },
  {
   "cell_type": "code",
   "execution_count": 44,
   "id": "0c62e35c",
   "metadata": {},
   "outputs": [],
   "source": [
    "from langchain.document_loaders.csv_loader import CSVLoader\n",
    "\n",
    "loader = CSVLoader(file_path='Q&A_LLM.csv', source_column=\"prompt\")\n",
    "\n",
    "# Store the loaded data in the 'data' variable\n",
    "data = loader.load()"
   ]
  },
  {
   "cell_type": "markdown",
   "id": "4dd45e51",
   "metadata": {},
   "source": [
    "### Hugging Face Embeddings"
   ]
  },
  {
   "cell_type": "code",
   "execution_count": 45,
   "id": "04a4de8c",
   "metadata": {},
   "outputs": [
    {
     "name": "stdout",
     "output_type": "stream",
     "text": [
      "load INSTRUCTOR_Transformer\n",
      "max_seq_length  512\n"
     ]
    }
   ],
   "source": [
    "from langchain.embeddings import HuggingFaceInstructEmbeddings\n",
    "\n",
    "# Initialize instructor embeddings using the Hugging Face model\n",
    "instructor_embeddings = HuggingFaceInstructEmbeddings(model_name=\"hkunlp/instructor-large\")\n",
    "\n",
    "e = instructor_embeddings.embed_query(\"How can i pay for Cody Pro?\")"
   ]
  },
  {
   "cell_type": "code",
   "execution_count": 12,
   "id": "0762eeac",
   "metadata": {},
   "outputs": [
    {
     "data": {
      "text/plain": [
       "768"
      ]
     },
     "execution_count": 12,
     "metadata": {},
     "output_type": "execute_result"
    }
   ],
   "source": [
    "len(e)"
   ]
  },
  {
   "cell_type": "code",
   "execution_count": 13,
   "id": "e6fab6ce",
   "metadata": {},
   "outputs": [
    {
     "data": {
      "text/plain": [
       "[-0.04829464480280876,\n",
       " -0.012129939161241055,\n",
       " -0.011484012939035892,\n",
       " -0.03236175328493118,\n",
       " 0.03637665882706642]"
      ]
     },
     "execution_count": 13,
     "metadata": {},
     "output_type": "execute_result"
    }
   ],
   "source": [
    "e[:5]"
   ]
  },
  {
   "cell_type": "markdown",
   "id": "e571c0d2",
   "metadata": {},
   "source": [
    "As you can see above, embedding for a sentence \"How can i pay for Cody Pro?\" is a list of size 768. Looking at the numbers in this list, doesn't give any intuitive understanding of what it is but just assume that these numbers are capturing the meaning of \"How can i pay for Cody Pro?\"."
   ]
  },
  {
   "cell_type": "markdown",
   "id": "cc80a28a",
   "metadata": {},
   "source": [
    "### Vector store using FAISS"
   ]
  },
  {
   "cell_type": "code",
   "execution_count": 46,
   "id": "b3c706da",
   "metadata": {},
   "outputs": [],
   "source": [
    "from langchain.vectorstores import FAISS\n",
    "\n",
    "# Create a FAISS instance for vector database from 'data'\n",
    "vectordb = FAISS.from_documents(documents=data,\n",
    "                                 embedding=instructor_embeddings)\n",
    "\n",
    "# Create a retriever for querying the vector database\n",
    "retriever = vectordb.as_retriever(score_threshold = 0.7)"
   ]
  },
  {
   "cell_type": "code",
   "execution_count": 40,
   "id": "cfd58f6f",
   "metadata": {},
   "outputs": [
    {
     "data": {
      "text/plain": [
       "[Document(page_content='prompt: can we buy cody and code search seperate?\\nresponse: Certainly! There is indeed a different package available. $9 for Cody and $49 code search', metadata={'source': 'can we buy cody and code search seperate?', 'row': 13}),\n",
       " Document(page_content='prompt: can you provide both cody and code search?\\nresponse: Certainly! There is indeed a bundled package available. $ 59', metadata={'source': 'can you provide both cody and code search?', 'row': 12}),\n",
       " Document(page_content='prompt: can i run both Code search and Cody enterprise?\\nresponse: You can purchase both Code Search Enterprise and Cody Enterprise and run them off of the same Sourcegraph deployment. Contact us to learn more.', metadata={'source': 'can i run both Code search and Cody enterprise?', 'row': 19}),\n",
       " Document(page_content=\"prompt: What's the difference between the Cody Free, Pro, nad Enterprise plans?\\nresponse: Cody Free and Cody Pro are both offered as standalone products. Cody Free is best for individuals working on hobby projects or professional devs trying out AI coding assistants. Usage limits apply.  Cody Pro is best for professional developers who want unlimited usage and context for larger codebases, and Cody Enterprise is for organizations needing security, scalability, and control. It is coming soon for everyone, but is currently available for existing Code Search customers (Contact us if you'd like to learn more).\", metadata={'source': \"What's the difference between the Cody Free, Pro, nad Enterprise plans?\", 'row': 0})]"
      ]
     },
     "execution_count": 40,
     "metadata": {},
     "output_type": "execute_result"
    }
   ],
   "source": [
    "rdocs = retriever.get_relevant_documents(\"can we buy cody and code search seperate?\")\n",
    "rdocs"
   ]
  },
  {
   "cell_type": "markdown",
   "id": "4cf6b257",
   "metadata": {},
   "source": [
    "As you can see above, the retriever that was created using FAISS and hugging face embedding is now capable of pulling relavant documents from our original CSV file knowledge store. This is very powerful and it will help us further in our project"
   ]
  },
  {
   "cell_type": "markdown",
   "id": "45bee857",
   "metadata": {},
   "source": [
    "##### Embeddings can be created using GooglePalm too. Also for vector database you can use chromadb as well as shown below. During our experimentation, we found hugging face embeddings and FAISS to be more appropriate for our use case"
   ]
  },
  {
   "cell_type": "code",
   "execution_count": 3,
   "id": "a93d079d",
   "metadata": {},
   "outputs": [],
   "source": [
    "# google_palm_embeddings = GooglePalmEmbeddings(google_api_key=api_key)\n",
    "\n",
    "# from langchain.vectorstores import Chroma\n",
    "# vectordb = Chroma.from_documents(data,\n",
    "#                            embedding=google_palm_embeddings,\n",
    "#                            persist_directory='./chromadb')\n",
    "# vectordb.persist()"
   ]
  },
  {
   "cell_type": "markdown",
   "id": "02f3d927",
   "metadata": {},
   "source": [
    "### Create RetrievalQA chain along with prompt template 🚀"
   ]
  },
  {
   "cell_type": "code",
   "execution_count": 47,
   "id": "2d4842c8",
   "metadata": {},
   "outputs": [],
   "source": [
    "from langchain.prompts import PromptTemplate\n",
    "\n",
    "prompt_template = \"\"\"Given the following context and a question, generate an answer based on this context only.\n",
    "In the answer try to provide as much text as possible from \"response\" section in the source document context without making much changes.\n",
    "If the answer is not found in the context, kindly state \"I don't know.\" Don't try to make up an answer.\n",
    "\n",
    "CONTEXT: {context}\n",
    "\n",
    "QUESTION: {question}\"\"\"\n",
    "\n",
    "\n",
    "PROMPT = PromptTemplate(\n",
    "    template=prompt_template, input_variables=[\"context\", \"question\"]\n",
    ")\n",
    "chain_type_kwargs = {\"prompt\": PROMPT}\n",
    "\n",
    "\n",
    "from langchain.chains import RetrievalQA\n",
    "\n",
    "chain = RetrievalQA.from_chain_type(llm=llm,\n",
    "                            chain_type=\"stuff\",\n",
    "                            retriever=retriever,\n",
    "                            input_key=\"query\",\n",
    "                            return_source_documents=True,\n",
    "                            chain_type_kwargs=chain_type_kwargs)\n"
   ]
  },
  {
   "cell_type": "markdown",
   "id": "152a4cf8",
   "metadata": {},
   "source": [
    "### We are all set 👍🏼 Let's ask some questions now"
   ]
  },
  {
   "cell_type": "code",
   "execution_count": 26,
   "id": "90166e8d",
   "metadata": {},
   "outputs": [
    {
     "data": {
      "text/plain": [
       "{'query': 'I have zero knowledge of AI and belong to a non-technical, can i able to use?',\n",
       " 'result': 'Yes, you can certainly use AI technologies even if you have zero technical knowledge',\n",
       " 'source_documents': [Document(page_content='prompt: I have zero knowledge of AI and belong to a non-technical, can i able to use?\\nresponse: Yes, you can certainly use AI technologies even if you have zero technical knowledge', metadata={'source': 'I have zero knowledge of AI and belong to a non-technical, can i able to use?', 'row': 24}),\n",
       "  Document(page_content='prompt: I have never used AI assistant in my life. Can I take Cody as an AI assistant this?\\nresponse: Yes, of course! You can consider Cody as your AI assistant for this task.', metadata={'source': 'I have never used AI assistant in my life. Can I take Cody as an AI assistant this?', 'row': 14}),\n",
       "  Document(page_content='prompt: Is there any prerequisite for buying this AI assistant ?\\nresponse: No prerequisites are necessary for purchasing this AI assistant, although basic familiarity with technology and an understanding of AI concepts may be helpful.', metadata={'source': 'Is there any prerequisite for buying this AI assistant ?', 'row': 16}),\n",
       "  Document(page_content=\"prompt: What is different in this AI assistant from thousands of others available online?\\nresponse: Sourcegraph's AI assistant likely stands out due to its focus on code assistance, integration with development workflows, and advanced code understanding capabilities. It may offer customization options for developers and prioritize privacy and security features. However, without specific details, it's challenging to provide a comprehensive comparison with other AI assistants.\", metadata={'source': 'What is different in this AI assistant from thousands of others available online?', 'row': 30})]}"
      ]
     },
     "execution_count": 26,
     "metadata": {},
     "output_type": "execute_result"
    }
   ],
   "source": [
    "chain('I have zero knowledge of AI and belong to a non-technical, can i able to use?')"
   ]
  },
  {
   "cell_type": "markdown",
   "id": "b3a4e3e4",
   "metadata": {},
   "source": [
    "**As you can see above, the answer of question comes from four different FAQs within our csv file and it is able to pull those questions and merge them nicely**"
   ]
  },
  {
   "cell_type": "code",
   "execution_count": 27,
   "id": "82dce73e",
   "metadata": {},
   "outputs": [
    {
     "data": {
      "text/plain": [
       "{'query': 'How can i pay for the code Intelligence Platform plan?',\n",
       " 'result': 'The Code Intelligence Platform plan requires an annual contract. Contact us to learn more.',\n",
       " 'source_documents': [Document(page_content='prompt: How can i pay for the code Intelligence Platform plan?\\nresponse: The Code Intelligence Platform plan requires an annual contract. Contact us to learn more.', metadata={'source': 'How can i pay for the code Intelligence Platform plan?', 'row': 22}),\n",
       "  Document(page_content='prompt: how can i pay for code search?\\nresponse: Code Search requires an annual contract. Contact us to learn more.', metadata={'source': 'how can i pay for code search?', 'row': 20}),\n",
       "  Document(page_content='prompt: How can i pay for Cody Pro?\\nresponse: Cody Pro is billed on a monthly basis and can be paid with a credit card.', metadata={'source': 'How can i pay for Cody Pro?', 'row': 4}),\n",
       "  Document(page_content='prompt: what is the code intelligence Platform?\\nresponse: The Code Intelligence Platform refers to the full platform offering from Sourcegraph. Today, this includes both the Cody and Code Search products, which are available at a discount when purchased as a bundle.', metadata={'source': 'what is the code intelligence Platform?', 'row': 21})]}"
      ]
     },
     "execution_count": 27,
     "metadata": {},
     "output_type": "execute_result"
    }
   ],
   "source": [
    "chain(\"How can i pay for the code Intelligence Platform plan?\")"
   ]
  },
  {
   "cell_type": "code",
   "execution_count": 30,
   "id": "48970302",
   "metadata": {},
   "outputs": [
    {
     "data": {
      "text/plain": [
       "{'query': 'Does Sourcegraph work in Mac OS/Ubuntu?',\n",
       " 'result': 'Yes',\n",
       " 'source_documents': [Document(page_content='prompt: Does Sourcegraph work in Mac OS/Ubuntu?\\nresponse: Yes', metadata={'source': 'Does Sourcegraph work in Mac OS/Ubuntu?', 'row': 29}),\n",
       "  Document(page_content='prompt: how and where can i install sourcegraph?\\nresponse: Visit the Sourcegraph website and navigate to the installation section, Download the appropriate installer for your operating system (e.g., Windows, macOS, Linux), and Follow the installation instructions provided on the website or in the downloaded package. Once installed, configure Sourcegraph settings as needed, Access Sourcegraph through your web browser by entering the specified URL or launching it from your applications menu.', metadata={'source': 'how and where can i install sourcegraph?', 'row': 31}),\n",
       "  Document(page_content='prompt: is my data secure when connected to code search?\\nresponse: Sourcegraph has security and reliability controls built for the most demanding enterprises. To learn more, see our Security page.', metadata={'source': 'is my data secure when connected to code search?', 'row': 18}),\n",
       "  Document(page_content='prompt: How can I contact you? if something goes wrong?\\nresponse: If you encounter any issues or need assistance, you can contact Sourcegraph support through  (File a public issue) mailto:support@sourcegraph.com', metadata={'source': 'How can I contact you? if something goes wrong?', 'row': 38})]}"
      ]
     },
     "execution_count": 30,
     "metadata": {},
     "output_type": "execute_result"
    }
   ],
   "source": [
    "chain(\"Does Sourcegraph work in Mac OS/Ubuntu?\")"
   ]
  },
  {
   "cell_type": "code",
   "execution_count": 29,
   "id": "c17dc6c3",
   "metadata": {},
   "outputs": [
    {
     "data": {
      "text/plain": [
       "{'query': 'how and where can i install sourcegraph?',\n",
       " 'result': 'Visit the Sourcegraph website and navigate to the installation section, Download the appropriate installer for your operating system (e.g., Windows, macOS, Linux), and Follow the installation instructions provided on the website or in the downloaded package. Once installed, configure Sourcegraph settings as needed, Access Sourcegraph through your web browser by entering the specified URL or launching it from your applications menu.',\n",
       " 'source_documents': [Document(page_content='prompt: how and where can i install sourcegraph?\\nresponse: Visit the Sourcegraph website and navigate to the installation section, Download the appropriate installer for your operating system (e.g., Windows, macOS, Linux), and Follow the installation instructions provided on the website or in the downloaded package. Once installed, configure Sourcegraph settings as needed, Access Sourcegraph through your web browser by entering the specified URL or launching it from your applications menu.', metadata={'source': 'how and where can i install sourcegraph?', 'row': 31}),\n",
       "  Document(page_content='prompt: Does Sourcegraph work in Mac OS/Ubuntu?\\nresponse: Yes', metadata={'source': 'Does Sourcegraph work in Mac OS/Ubuntu?', 'row': 29}),\n",
       "  Document(page_content='prompt: How do i deploy Sourcegraph Code Search? Can I run it self-hosted\\nresponse: Code Search can be deployed using Sourcegraph Cloud (we host) or Sourcegraph Self-hosted (you host).', metadata={'source': 'How do i deploy Sourcegraph Code Search? Can I run it self-hosted', 'row': 17}),\n",
       "  Document(page_content='prompt: How can I contact you? if something goes wrong?\\nresponse: If you encounter any issues or need assistance, you can contact Sourcegraph support through  (File a public issue) mailto:support@sourcegraph.com', metadata={'source': 'How can I contact you? if something goes wrong?', 'row': 38})]}"
      ]
     },
     "execution_count": 29,
     "metadata": {},
     "output_type": "execute_result"
    }
   ],
   "source": [
    "chain(\"how and where can i install sourcegraph?\")"
   ]
  },
  {
   "cell_type": "code",
   "execution_count": 31,
   "id": "0c35c2c3",
   "metadata": {},
   "outputs": [
    {
     "data": {
      "text/plain": [
       "{'query': 'Can you explain more about your product?',\n",
       " 'result': 'Yes, Please Visit our website (https://sourcegraph.com)',\n",
       " 'source_documents': [Document(page_content='prompt: Can you explain more about your product?\\nresponse: Yes, Please Visit our website (https://sourcegraph.com)', metadata={'source': 'Can you explain more about your product?', 'row': 37}),\n",
       "  Document(page_content='prompt: How many products you own?\\nresponse: there are 3 products', metadata={'source': 'How many products you own?', 'row': 10}),\n",
       "  Document(page_content='prompt: How can I get help if I have a doubt and need support?\\nresponse: Contact us', metadata={'source': 'How can I get help if I have a doubt and need support?', 'row': 26}),\n",
       "  Document(page_content=\"prompt: Will there be an upgraded when there are new features in Sourcegraph?\\nresponse: Yes, we'll let you know!\", metadata={'source': 'Will there be an upgraded when there are new features in Sourcegraph?', 'row': 27})]}"
      ]
     },
     "execution_count": 31,
     "metadata": {},
     "output_type": "execute_result"
    }
   ],
   "source": [
    "chain(\"Can you explain more about your product?\")"
   ]
  },
  {
   "cell_type": "code",
   "execution_count": 32,
   "id": "a054c5ff",
   "metadata": {},
   "outputs": [
    {
     "data": {
      "text/plain": [
       "{'query': 'Once purchased, is this course available for lifetime access?',\n",
       " 'result': 'Contact us',\n",
       " 'source_documents': [Document(page_content='prompt: Once purchased, is this course available for lifetime access?\\nresponse: Contact us', metadata={'source': 'Once purchased, is this course available for lifetime access?', 'row': 25}),\n",
       "  Document(page_content='prompt: is this free?\\nresponse: Yes, it comes with a single developer limit and restricted access.', metadata={'source': 'is this free?', 'row': 11}),\n",
       "  Document(page_content='prompt: How can i upgrade or downgrade my plans?\\nresponse: Users can upgrade or downgrade between Cody Free and Cody Pro within their account settings at any time. To upgrade to Cody Enterprise, please contact our Sales team.', metadata={'source': 'How can i upgrade or downgrade my plans?', 'row': 5}),\n",
       "  Document(page_content='prompt: How can i pay for the code Intelligence Platform plan?\\nresponse: The Code Intelligence Platform plan requires an annual contract. Contact us to learn more.', metadata={'source': 'How can i pay for the code Intelligence Platform plan?', 'row': 22})]}"
      ]
     },
     "execution_count": 32,
     "metadata": {},
     "output_type": "execute_result"
    }
   ],
   "source": [
    "chain(\"Once purchased, is this course available for lifetime access?\")"
   ]
  },
  {
   "cell_type": "code",
   "execution_count": 35,
   "id": "89fa5d10",
   "metadata": {},
   "outputs": [
    {
     "data": {
      "text/plain": [
       "{'query': 'How can i upgrade or downgrade my plans?',\n",
       " 'result': 'Users can upgrade or downgrade between Cody Free and Cody Pro within their account settings at any time. To upgrade to Cody Enterprise, please contact our Sales team.',\n",
       " 'source_documents': [Document(page_content='prompt: How can i upgrade or downgrade my plans?\\nresponse: Users can upgrade or downgrade between Cody Free and Cody Pro within their account settings at any time. To upgrade to Cody Enterprise, please contact our Sales team.', metadata={'source': 'How can i upgrade or downgrade my plans?', 'row': 5}),\n",
       "  Document(page_content='prompt: How can i pay for the code Intelligence Platform plan?\\nresponse: The Code Intelligence Platform plan requires an annual contract. Contact us to learn more.', metadata={'source': 'How can i pay for the code Intelligence Platform plan?', 'row': 22}),\n",
       "  Document(page_content='prompt: What forms of support are available for paid Cody plans?\\nresponse: Email and web portal support is available to both Cody Pro and Cody Enterprise customers, and you can read more about our SLAs. Premium support with enhanced SLAs is also available as an add-on for Cody Enterprise customers.', metadata={'source': 'What forms of support are available for paid Cody plans?', 'row': 3}),\n",
       "  Document(page_content='prompt: Is an annual contract required for any of the plans?\\nresponse: Cody Enterprise requires an annual contract. Cody Pro is paid on a monthly basis.', metadata={'source': 'Is an annual contract required for any of the plans?', 'row': 9})]}"
      ]
     },
     "execution_count": 35,
     "metadata": {},
     "output_type": "execute_result"
    }
   ],
   "source": [
    "chain(\"How can i upgrade or downgrade my plans?\")"
   ]
  },
  {
   "cell_type": "code",
   "execution_count": 43,
   "id": "c6539e58",
   "metadata": {},
   "outputs": [
    {
     "data": {
      "text/plain": [
       "{'query': 'is my data secure when connected to code search?',\n",
       " 'result': 'Sourcegraph has security and reliability controls built for the most demanding enterprises. To learn more, see our Security page.',\n",
       " 'source_documents': [Document(page_content='prompt: is my data secure when connected to code search?\\nresponse: Sourcegraph has security and reliability controls built for the most demanding enterprises. To learn more, see our Security page.', metadata={'source': 'is my data secure when connected to code search?', 'row': 18}),\n",
       "  Document(page_content='prompt: How do i deploy Sourcegraph Code Search? Can I run it self-hosted\\nresponse: Code Search can be deployed using Sourcegraph Cloud (we host) or Sourcegraph Self-hosted (you host).', metadata={'source': 'How do i deploy Sourcegraph Code Search? Can I run it self-hosted', 'row': 17}),\n",
       "  Document(page_content='prompt: how can i pay for code search?\\nresponse: Code Search requires an annual contract. Contact us to learn more.', metadata={'source': 'how can i pay for code search?', 'row': 20}),\n",
       "  Document(page_content='prompt: Why should I trust Sourcegraph?\\nresponse: You may trust Sourcegraph based on its industry reputation and proven track record in delivering reliable developer tools. The company emphasizes transparency, security, and adheres to industry standards for data protection. Positive feedback from satisfied customers and active community engagement contribute to its credibility. Sourcegraph offers comprehensive support and resources to users, including documentation and responsive customer service. Ultimately, your decision to trust Sourcegraph will depend on factors such as its alignment with your needs and values, as well as comparisons with other options in the market.', metadata={'source': 'Why should I trust Sourcegraph?', 'row': 15})]}"
      ]
     },
     "execution_count": 43,
     "metadata": {},
     "output_type": "execute_result"
    }
   ],
   "source": [
    "chain(\"is my data secure when connected to code search?\")"
   ]
  },
  {
   "cell_type": "code",
   "execution_count": 49,
   "id": "57be21f3-1d43-4a09-b671-9b847339e4df",
   "metadata": {},
   "outputs": [
    {
     "data": {
      "text/plain": [
       "{'query': \"What's the difference between the Cody Free, Pro, and Enterprise plans?\",\n",
       " 'result': \"Cody Free and Cody Pro are both offered as standalone products. Cody Free is best for individuals working on hobby projects or professional devs trying out AI coding assistants. Usage limits apply.  Cody Pro is best for professional developers who want unlimited usage and context for larger codebases, and Cody Enterprise is for organizations needing security, scalability, and control. It is coming soon for everyone, but is currently available for existing Code Search customers (Contact us if you'd like to learn more).\",\n",
       " 'source_documents': [Document(page_content=\"prompt: What's the difference between the Cody Free, Pro, and Enterprise plans?\\nresponse: Cody Free and Cody Pro are both offered as standalone products. Cody Free is best for individuals working on hobby projects or professional devs trying out AI coding assistants. Usage limits apply.  Cody Pro is best for professional developers who want unlimited usage and context for larger codebases, and Cody Enterprise is for organizations needing security, scalability, and control. It is coming soon for everyone, but is currently available for existing Code Search customers (Contact us if you'd like to learn more).\", metadata={'source': \"What's the difference between the Cody Free, Pro, and Enterprise plans?\", 'row': 0}),\n",
       "  Document(page_content='prompt: How can i upgrade or downgrade my plans?\\nresponse: Users can upgrade or downgrade between Cody Free and Cody Pro within their account settings at any time. To upgrade to Cody Enterprise, please contact our Sales team.', metadata={'source': 'How can i upgrade or downgrade my plans?', 'row': 5}),\n",
       "  Document(page_content='prompt: What forms of support are available for paid Cody plans?\\nresponse: Email and web portal support is available to both Cody Pro and Cody Enterprise customers, and you can read more about our SLAs. Premium support with enhanced SLAs is also available as an add-on for Cody Enterprise customers.', metadata={'source': 'What forms of support are available for paid Cody plans?', 'row': 3}),\n",
       "  Document(page_content='prompt: Is an annual contract required for any of the plans?\\nresponse: Cody Enterprise requires an annual contract. Cody Pro is paid on a monthly basis.', metadata={'source': 'Is an annual contract required for any of the plans?', 'row': 9})]}"
      ]
     },
     "execution_count": 49,
     "metadata": {},
     "output_type": "execute_result"
    }
   ],
   "source": [
    "chain(\"What's the difference between the Cody Free, Pro, and Enterprise plans?\")"
   ]
  },
  {
   "cell_type": "code",
   "execution_count": null,
   "id": "5a9be08c-8b93-4b3c-87ac-c369a8e809b6",
   "metadata": {},
   "outputs": [],
   "source": []
  }
 ],
 "metadata": {
  "kernelspec": {
   "display_name": "Python 3 (ipykernel)",
   "language": "python",
   "name": "python3"
  },
  "language_info": {
   "codemirror_mode": {
    "name": "ipython",
    "version": 3
   },
   "file_extension": ".py",
   "mimetype": "text/x-python",
   "name": "python",
   "nbconvert_exporter": "python",
   "pygments_lexer": "ipython3",
   "version": "3.10.6"
  }
 },
 "nbformat": 4,
 "nbformat_minor": 5
}
